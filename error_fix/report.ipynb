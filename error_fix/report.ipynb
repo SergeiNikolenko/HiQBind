{
 "cells": [
  {
   "cell_type": "code",
   "execution_count": 18,
   "metadata": {},
   "outputs": [
    {
     "name": "stdout",
     "output_type": "stream",
     "text": [
      "Covalent 958\n",
      "Fail to match template SMILES 1628\n",
      "Ligand with rare elements 206\n",
      "Steric clash 165\n",
      "No reference 383\n",
      "Others 48\n",
      "Fail to find ligand 235\n",
      "Fail to fix protein 77\n",
      "Fail to fix ligand 81\n",
      "Ligand too small 1\n",
      "Total 3782\n"
     ]
    }
   ],
   "source": [
    "import os, glob\n",
    "from collections import defaultdict\n",
    "\n",
    "\n",
    "dataset_dir = '../raw_data_pdbbind_*'\n",
    "report_file = 'PDBBind-opt.md'\n",
    "\n",
    "err_types = defaultdict(list)\n",
    "pdbids = set()\n",
    "for err in glob.glob(os.path.join(dataset_dir, '*/err')):\n",
    "    pdbid = os.path.basename(os.path.dirname(err))\n",
    "    pdbids.add(pdbid)\n",
    "    with open(err) as f:\n",
    "        last = f.read().strip().split('\\n')[-1]\n",
    "    if last.startswith('AssertionError: Number of ligand residues'):\n",
    "        err_types['Covalent'].append(pdbid)\n",
    "    elif last.startswith('RuntimeError: Rare element in ligand'):\n",
    "        err_types['Ligand with rare elements'].append(pdbid)\n",
    "    elif last.startswith('RuntimeError: Too few'):\n",
    "        err_types['Ligand too small'].append(pdbid)\n",
    "    elif last.startswith('AssertionError: Steric clash'):\n",
    "        err_types['Steric clash'].append(pdbid)\n",
    "    elif last.startswith('fix_ligand.LigandFixException: Number of atoms not match'):\n",
    "        err_types['Fail to match template SMILES'].append(pdbid)\n",
    "    elif last.startswith('fix_ligand.LigandFixException: No reference found'):\n",
    "        err_types['No reference'].append(pdbid)\n",
    "    elif last.startswith('fix_ligand.LigandFixException:'):\n",
    "        err_types['Fail to fix ligand'].append(pdbid)\n",
    "    elif last.startswith('ValueError: No template found') or last.startswith('AssertionError: Not a modified amino acid'):\n",
    "        err_types['Fail to fix protein'].append(pdbid)\n",
    "    elif last.startswith('AssertionError: No ligands found'):\n",
    "        err_types['Fail to find ligand'].append(pdbid)\n",
    "    else:\n",
    "        err_types['Others'].append(pdbid)\n",
    "\n",
    "total = 0\n",
    "err_types = {key: sorted(list(set(err_types[key]))) for key in err_types}\n",
    "for key, value in err_types.items():\n",
    "    print(key, len(value))\n",
    "    total += len(value)\n",
    "print(\"Total\", total)\n",
    "\n",
    "with open(report_file, 'w') as f:\n",
    "    for key, value in err_types.items():\n",
    "        value.sort()\n",
    "        f.write(f'## {key} ({len(err_types[key])})\\n')\n",
    "        for val in value:\n",
    "            f.write(f'+ {val}\\n')\n",
    "        f.write('\\n')\n"
   ]
  },
  {
   "cell_type": "code",
   "execution_count": 1,
   "metadata": {},
   "outputs": [],
   "source": [
    "import pandas as pd\n",
    "\n",
    "\n",
    "hiq_poly_before = pd.read_csv('../pre_process/hiq_poly.csv')['PDBID'].unique().tolist()\n",
    "hiq_sm_before = pd.read_csv('../pre_process/hiq_sm.csv')['PDBID'].unique().tolist()\n",
    "\n",
    "hiq_poly_after = pd.read_csv('../analysis/hiq_poly_metadata.csv')['PDBID'].unique().tolist()\n",
    "hiq_sm_after = pd.read_csv('../analysis/hiq_sm_metadata.csv')['PDBID'].unique().tolist()"
   ]
  },
  {
   "cell_type": "code",
   "execution_count": 4,
   "metadata": {},
   "outputs": [
    {
     "name": "stdout",
     "output_type": "stream",
     "text": [
      "1o7o\n",
      "Polymer success\n",
      "SM success\n",
      "1o9f\n",
      "Polymer success\n",
      "SM success\n",
      "1ga8\n",
      "Polyer failed\n",
      "SM failed\n",
      "1gx4\n",
      "Polyer failed\n",
      "SM success\n",
      "4d4u\n",
      "Polyer failed\n",
      "SM failed\n",
      "1gwv\n",
      "Polymer success\n",
      "SM success\n"
     ]
    }
   ],
   "source": [
    "common = set(hiq_poly_before).intersection(hiq_sm_before)\n",
    "for pdbid in common:\n",
    "    print(pdbid)\n",
    "    if pdbid in hiq_poly_after:\n",
    "        print('Polymer success')\n",
    "    else:\n",
    "        print('Polyer failed')\n",
    "    \n",
    "    if pdbid in hiq_sm_after:\n",
    "        print('SM success')\n",
    "    else:\n",
    "        print('SM failed')"
   ]
  },
  {
   "cell_type": "code",
   "execution_count": 13,
   "metadata": {},
   "outputs": [],
   "source": [
    "import pandas as pd\n",
    "\n",
    "\n",
    "pdbbind_opt_poly_before = pd.read_csv('../pre_process/PDBBind_poly.csv')['PDBID'].unique().tolist()\n",
    "pdbbind_opt_sm_before = pd.read_csv('../pre_process/PDBBind_sm.csv')['PDBID'].unique().tolist()\n",
    "\n",
    "pdbbind_opt_poly_after = pd.read_csv('../analysis/pdbbind_opt_poly_metadata.csv')['PDBID'].unique().tolist()\n",
    "pdbbind_opt_sm_after = pd.read_csv('../analysis/pdbbind_opt_sm_metadata.csv')['PDBID'].unique().tolist()"
   ]
  },
  {
   "cell_type": "code",
   "execution_count": 25,
   "metadata": {},
   "outputs": [],
   "source": [
    "with open('list') as f:\n",
    "    ids = f.read().replace('+ ', '').split()\n",
    "    ids = sorted(set(ids))"
   ]
  },
  {
   "cell_type": "code",
   "execution_count": 26,
   "metadata": {},
   "outputs": [
    {
     "data": {
      "text/plain": [
       "'11gs, 1a07, 1a0t, 1a2c, 1a37, 1a3e, 1abf, 1abt, 1af2, 1agm, 1apb, 1apv, 1apw, 1aqc, 1at5, 1at6, 1atl, 1aze, 1azx, 1b11, 1b2m, 1b40, 1b6j, 1bap, 1bdl, 1bdq, 1bm2, 1bm6, 1bsk, 1bt6, 1bux, 1bzh, 1c5o, 1c5p, 1c5z, 1cka, 1ckb, 1clu, 1cpi, 1cyn, 1czq, 1d4w, 1d6s, 1d8e, 1dkd, 1dmb, 1dva, 1dxp, 1e03, 1e5j, 1eb1, 1ec9, 1eef, 1ej4, 1eoj, 1eol, 1epq, 1eub, 1evh, 1ez9, 1f47, 1f4y, 1f5k, 1ff1, 1fh7, 1fh8, 1fh9, 1fhd, 1fls, 1fwu, 1fwv, 1g42, 1g6g, 1g9r, 1ga8, 1gag, 1gah, 1gai, 1gmy, 1gni, 1gnj, 1gnm, 1gnn, 1gno, 1gny, 1gu3, 1gui, 1gvu, 1gvx, 1gwm, 1gwq, 1gwr, 1gwv, 1gzc, 1h00, 1h07, 1h24, 1h25, 1h26, 1h27, 1h28, 1h2t, 1h2u, 1h5v, 1h6e, 1hc9, 1hgt, 1hkj, 1hkk, 1hkm, 1hps, 1htg, 1i3z, 1i6v, 1i7c, 1i7m, 1i8h, 1i8i, 1idg, 1igj, 1iht, 1ikt, 1ilq, 1iq1, 1is0, 1it6, 1iwq, 1j19, 1j1a, 1j4q, 1jd5, 1jd6, 1jfh, 1jh1, 1jm4, 1jmq, 1jn2, 1jp5, 1jpl, 1juq, 1jvp, 1k1y, 1k9q, 1kat, 1kc5, 1kcs, 1kjr, 1kl3, 1kl5, 1kna, 1kne, 1l6m, 1lek, 1lf8, 1lf9, 1lkk, 1ll4, 1lqe, 1lt5, 1lxh, 1m7d, 1m7i, 1mf4, 1mfa, 1mfd, 1mhw, 1mpa, 1mv0, 1n3w, 1n4m, 1n5z, 1n7m, 1nde, 1ngw, 1nlo, 1nlp, 1nlt, 1ny2, 1o9k, 1oau, 1obx, 1ocn, 1ocq, 1od8, 1oeb, 1ogg, 1oh4, 1oj5, 1ok7, 1oko, 1ols, 1olu, 1olx, 1om9, 1orw, 1osg, 1osv, 1ov3, 1ow6, 1ow7, 1ow8, 1oxn, 1oxq, 1oy7, 1ozv, 1p28, 1p2g, 1p4u, 1pcg, 1pdq, 1ph0, 1pig, 1pl0, 1pmx, 1ppi, 1pum, 1pxh, 1py1, 1pyw, 1pzi, 1q4k, 1qaw, 1qi0, 1qiw, 1qja, 1qjb, 1qm5, 1qsc, 1r17, 1r2b, 1r6z, 1rdj, 1rdl, 1rdn, 1rgj, 1s9v, 1shd, 1sje, 1sld, 1sle, 1slg, 1sln, 1sm3, 1sps, 1ssq, 1str, 1sts, 1szm, 1t29, 1t2v, 1t37, 1t79, 1t7d, 1t7f, 1t7r, 1tc1, 1tet, 1ths, 1tl9, 1tps, 1ttv, 1tyr, 1u8t, 1uef, 1ugx, 1ugy, 1uh1, 1uj0, 1ujj, 1ujk, 1ukh, 1ule, 1ulg, 1umw, 1upk, 1ur9, 1urc, 1urg, 1utc, 1uti, 1uvu, 1ux7, 1uxa, 1uxb, 1uz8, 1v0k, 1v0l, 1v0m, 1v0n, 1v11, 1v16, 1v1m, 1vj6, 1vr1, 1vwl, 1vwn, 1w1g, 1w2h, 1w3k, 1w3l, 1w70, 1w80, 1wdn, 1wdq, 1wdr, 1ws5, 1wu1, 1x11, 1x8s, 1x9d, 1xb7, 1xff, 1xhm, 1xn2, 1xn3, 1xt3, 1xt8, 1y3a, 1y3n, 1y3p, 1y3y, 1ybg, 1ybo, 1yhm, 1ymx, 1yp9, 1yvh, 1ywi, 1yxd, 1yy6, 1z3t, 1z3v, 1zfp, 1zkk, 1zky, 1zub, 2a25, 2aez, 2aof, 2aoh, 2aoi, 2aoj, 2aou, 2aq9, 2auc, 2ay7, 2az8, 2az9, 2azb, 2azc, 2azm, 2b1q, 2b1r, 2b2v, 2b7f, 2bba, 2bcd, 2bgn, 2bgr, 2bmz, 2br8, 2byp, 2c1n, 2c9t, 2ce9, 2cht, 2ci9, 2cia, 2co0, 2d1x, 2d2v, 2df6, 2dwx, 2e7l, 2e95, 2e98, 2e9a, 2e9c, 2eh8, 2emt, 2er0, 2er9, 2euk, 2eum, 2evl, 2ez5, 2f5t, 2f6j, 2fci, 2fgu, 2fgv, 2flu, 2fr8, 2frd, 2fsa, 2fts, 2fuu, 2fx9, 2fys, 2g6q, 2gfa, 2ggu, 2gh9, 2h13, 2h2d, 2h2e, 2h2g, 2h2h, 2h6k, 2h6q, 2h9m, 2h9n, 2h9p, 2hah, 2hdx, 2hj4, 2hjb, 2hkf, 2hmh, 2hrp, 2ig0, 2igv, 2igw, 2itk, 2iv9, 2ivz, 2j7w, 2j9n, 2jb5, 2jbu, 2jdk, 2jdl, 2jg8, 2jjb, 2jk9, 2jkr, 2jkt, 2jmj, 2jnw, 2jq9, 2jqk, 2k1q, 2k3w, 2kgi, 2knh, 2kup, 2l0i, 2l65, 2l7u, 2l8j, 2lcs, 2lct, 2liq, 2llq, 2lp8, 2m0o, 2m3o, 2mg5, 2mip, 2mkr, 2mov, 2mow, 2mpa, 2mwy, 2n3k, 2n7b, 2nn8, 2nwl, 2nwn, 2nxd, 2nxl, 2nxm, 2o9k, 2o9r, 2o9v, 2odd, 2oei, 2oi9, 2ooz, 2peh, 2pem, 2pl9, 2pmc, 2pnx, 2pv3, 2q7q, 2q7y, 2q8y, 2qbx, 2qic, 2qki, 2qmj, 2qt5, 2qta, 2qtr, 2qv7, 2qwe, 2r02, 2r03, 2r05, 2r0h, 2r0y, 2r1w, 2r1x, 2r1y, 2r23, 2r2b, 2r3c, 2r3y, 2r5b, 2r7g, 2rfy, 2ri9, 2rkm, 2rkn, 2rok, 2rol, 2rvn, 2srt, 2tpi, 2uw0, 2uyq, 2uz6, 2v7d, 2v83, 2v85, 2v86, 2v87, 2v88, 2vl1, 2vnf, 2vpe, 2vpg, 2vr3, 2vsl, 2vwf, 2vxj, 2w0p, 2w0z, 2w10, 2w16, 2w2u, 2w3o, 2w47, 2w6c, 2w6t, 2w6u, 2w73, 2w76, 2w77, 2w78, 2w7y, 2w9r, 2wa8, 2wcg, 2wd3, 2whp, 2wk2, 2wly, 2wlz, 2wm0, 2wp1, 2wyf, 2wyn, 2wzf, 2x2i, 2x3t, 2x4t, 2x4z, 2x52, 2x6w, 2x6x, 2x6y, 2x85, 2xaf, 2xag, 2xah, 2xaj, 2xaq, 2xas, 2xcs, 2xct, 2xg3, 2xg9, 2xhs, 2xl2, 2xl3, 2xn6, 2xn7, 2xog, 2xoi, 2xqq, 2xrw, 2xs0, 2xs8, 2xwd, 2xwe, 2xxn, 2xzq, 2y06, 2y07, 2y1n, 2y36, 2y4m, 2y4s, 2y6s, 2y8i, 2y8o, 2y9g, 2y9q, 2ydt, 2yhw, 2yjq, 2ylc, 2yln, 2ymt, 2ynr, 2yns, 2ypp, 2yq6, 2z5o, 2z5s, 2z5t, 2zcr, 2zcs, 2zg3, 2zga, 2zgm, 2zm3, 2zpk, 2zq0, 2zy1, 2zym, 2zyn, 3afk, 3al3, 3alt, 3ap4, 3ap7, 3ary, 3arz, 3as3, 3ask, 3asl, 3au6, 3avf, 3avg, 3avh, 3ax5, 3aya, 3ayc, 3ayd, 3b3s, 3b95, 3bbb, 3bbt, 3bg8, 3bho, 3bim, 3bpc, 3btr, 3bu6, 3bu8, 3bum, 3bun, 3buo, 3buw, 3bux, 3bzi, 3c0z, 3c1n, 3c6w, 3c94, 3cbs, 3cfs, 3cfv, 3ck7, 3ck8, 3ckb, 3coj, 3cs8, 3d1e, 3d1f, 3d3x, 3d45, 3d6o, 3d9k, 3d9l, 3d9m, 3d9n, 3d9o, 3d9p, 3dab, 3dcq, 3diw, 3dla, 3dnj, 3dow, 3dpo, 3drf, 3drg, 3dri, 3ds1, 3ds9, 3dvp, 3dz2, 3dz4, 3dz6, 3e7a, 3e8u, 3ebb, 3eg6, 3ehn, 3eht, 3emh, 3eqs, 3er3, 3ery, 3eu7, 3evc, 3evd, 3evf, 3eyf, 3eys, 3eyu, 3f3a, 3f5j, 3f5k, 3f5l, 3f5p, 3f69, 3f70, 3f81, 3f9w, 3f9y, 3fbr, 3fdm, 3fdt, 3fi2, 3fn0, 3fqa, 3fuc, 3fv8, 3g0e, 3g0f, 3g2s, 3g2t, 3g2u, 3g2v, 3g2w, 3g3r, 3g42, 3g5v, 3g5y, 3g7l, 3gds, 3ggw, 3ghe, 3gl6, 3gsm, 3gss, 3gv6, 3gxz, 3h52, 3h6z, 3h91, 3h9f, 3hkn, 3hkt, 3hlo, 3hqh, 3hs8, 3hs9, 3hzk, 3hzv, 3hzy, 3i02, 3i5r, 3i6c, 3i8t, 3i90, 3i91, 3iet, 3if7, 3ifl, 3ifo, 3ifp, 3iit, 3iiw, 3iiy, 3ij0, 3ij1, 3ijy, 3ikc, 3iqg, 3iqh, 3iqi, 3iqj, 3iqq, 3iss, 3isw, 3iux, 3ivq, 3ivv, 3iw7, 3jpx, 3juq, 3jvk, 3jyr, 3jzg, 3jzh, 3jzj, 3k00, 3k26, 3k27, 3k48, 3k8d, 3ka2, 3kmc, 3krd, 3ktr, 3kyf, 3kyg, 3kze, 3l3q, 3l3x, 3l3z, 3l6x, 3lbl, 3lgl, 3lgs, 3lk1, 3lnj, 3lnz, 3lpl, 3lq2, 3lq4, 3lqi, 3lqj, 3luo, 3m3o, 3m3r, 3m53, 3m54, 3m55, 3m56, 3m57, 3m58, 3m59, 3m5a, 3mbp, 3me9, 3mea, 3met, 3meu, 3ml4, 3mp1, 3mp6, 3muk, 3mxc, 3mxy, 3n5u, 3nf3, 3nfk, 3nfl, 3nii, 3nij, 3nil, 3nin, 3nkx, 3nsn, 3nti, 3nw3, 3ny3, 3o0e, 3o1d, 3o1e, 3o6l, 3o6m, 3ob0, 3ob1, 3ob2, 3odi, 3odl, 3ogx, 3oka, 3okp, 3old, 3ole, 3olg, 3omc, 3omg, 3oq5, 3oy8, 3oyw, 3p4f, 3pdh, 3pfp, 3pgu, 3pj1, 3pkn, 3plu, 3pma, 3poa, 3pp7, 3pqz, 3psl, 3puj, 3puk, 3pxe, 3q5u, 3q6s, 3q8d, 3qfy, 3qfz, 3qg6, 3ql9, 3qlc, 3qmk, 3qn7, 3qnj, 3qo2, 3qs4, 3qxd, 3qxv, 3qzt, 3qzv, 3r42, 3r93, 3rbq, 3rdv, 3rg2, 3rl7, 3rl8, 3rme, 3rqe, 3rqf, 3rqg, 3rtx, 3rul, 3rum, 3run, 3rv6, 3rv8, 3rz9, 3rzi, 3s7f, 3shb, 3shv, 3sm1, 3so6, 3sou, 3sov, 3sow, 3stj, 3sw9, 3sxu, 3szm, 3t5i, 3t6r, 3t7g, 3t83, 3t8v, 3tcg, 3tdu, 3tf6, 3tf7, 3tg5, 3th0, 3ti4, 3tib, 3tiw, 3tkz, 3tl0, 3tlh, 3tpx, 3tsz, 3twr, 3tws, 3twu, 3twv, 3tww, 3twx, 3tzd, 3u3f, 3u78, 3ual, 3uat, 3ud7, 3ud8, 3ud9, 3uda, 3ued, 3uef, 3ueo, 3ui2, 3uig, 3uih, 3uii, 3uij, 3uik, 3upk, 3ur0, 3uri, 3uvk, 3uvl, 3uvm, 3uvn, 3uvo, 3uvu, 3uvw, 3uvx, 3uw9, 3uwl, 3ux0, 3uxg, 3uyr, 3uzd, 3v2o, 3v30, 3v3b, 3v43, 3v4t, 3v7d, 3va4, 3vf9, 3vfj, 3voz, 3vp1, 3vp2, 3vp3, 3vp4, 3vtr, 3vzg, 3w37, 3waw, 3wcb, 3wch, 3wdz, 3wp0, 3wp1, 3wqv, 3wqw, 3wsy, 3wut, 3wuu, 3wuv, 3zdv, 3zev, 3zha, 3zhf, 3zi8, 3zjt, 3zju, 3zjv, 3zke, 3zkf, 3zlv, 3zmp, 3zmt, 3zmu, 3zmv, 3zmz, 3zn0, 3zn1, 3zq9, 3zqi, 3zst, 3zvy, 3zyb, 3zyh, 3zyr, 4a0j, 4a1w, 4a23, 4a4c, 4a50, 4a7j, 4a9t, 4a9u, 4aa1, 4aa2, 4abi, 4abj, 4ad2, 4ad3, 4agl, 4aif, 4aom, 4ap0, 4aph, 4apr, 4auy, 4av0, 4av5, 4avi, 4avj, 4ay6, 4ayp, 4aze, 4b4n, 4b4q, 4b60, 4b83, 4b8o, 4b8p, 4b8y, 4b9h, 4b9w, 4b9z, 4ba3, 4bea, 4bg6, 4bgx, 4blb, 4bpi, 4bpj, 4btl, 4bv2, 4bxu, 4c0r, 4c16, 4c1t, 4c1u, 4c1w, 4c4n, 4c5w, 4c9w, 4cc2, 4cc7, 4cd4, 4cd5, 4cd6, 4cd8, 4cdr, 4ch2, 4ch8, 4ciz, 4cpq, 4cps, 4cpx, 4csy, 4cy1, 4czs, 4d1d, 4d4d, 4de7, 4dhl, 4djs, 4dma, 4dow, 4dro, 4ds1, 4dx9, 4e35, 4e3b, 4e6c, 4e81, 4e9c, 4e9d, 4edu, 4egi, 4elb, 4elg, 4elh, 4ep2, 4eqf, 4eqj, 4er4, 4erq, 4ery, 4erz, 4es0, 4esg, 4ewr, 4exh, 4ezo, 4ezq, 4ezt, 4ezy, 4f14, 4f20, 4fbx, 4fcm, 4fe9, 4fem, 4fgx, 4fgy, 4fk7, 4fmn, 4fmo, 4fmq, 4fn5, 4ft2, 4fut, 4g0a, 4g5f, 4g68, 4g69, 4gah, 4gao, 4gj8, 4glr, 4glx, 4gne, 4gnf, 4gng, 4gq6, 4gvc, 4gvd, 4gw1, 4gw5, 4gwi, 4gxl, 4gy5, 4gye, 4gzf, 4gzw, 4gzx, 4h36, 4h39, 4h3b, 4h3q, 4hcz, 4hfz, 4hgc, 4hp0, 4hpi, 4hpy, 4hs6, 4hs8, 4htp, 4hva, 4hy9, 4hyb, 4i2z, 4i31, 4i32, 4i33, 4i67, 4i7b, 4iaw, 4iax, 4ib5, 4ifi, 4igk, 4igq, 4ii9, 4ikn, 4ipn, 4is6, 4iur, 4iut, 4iuu, 4iuv, 4iwd, 4j09, 4j24, 4j26, 4j2c, 4j3u, 4j48, 4j4v, 4j73, 4j77, 4j7i, 4j84, 4j8g, 4j8r, 4j8s, 4jc1, 4jck, 4je8, 4jfx, 4jfz, 4jg0, 4jg1, 4jiz, 4jjq, 4jmg, 4jmh, 4jof, 4jog, 4joh, 4joj, 4jok, 4k0o, 4k0u, 4k3l, 4k3m, 4k63, 4k64, 4k66, 4k67, 4k6u, 4k6v, 4k6w, 4k6y, 4k72, 4k75, 4k76, 4kc1, 4kc2, 4kc4, 4kmd, 4kn7, 4kom, 4kon, 4ktu, 4kup, 4kvm, 4kx8, 4l1u, 4l58, 4l6t, 4lbl, 4lbo, 4lg6, 4ljh, 4lk6, 4lk7, 4lkd, 4lke, 4lkf, 4lkg, 4lkh, 4lkk, 4lkm, 4ln2, 4lnf, 4lno, 4lnp, 4lp6, 4lq3, 4lte, 4m1d, 4m7j, 4mbp, 4mdn, 4mdr, 4mg5, 4mo4, 4mr3, 4mr5, 4mrd, 4mx5, 4mz5, 4mz6, 4mzf, 4mzh, 4mzj, 4mzk, 4mzl, 4n3w, 4n6g, 4n7g, 4n7h, 4n7j, 4n7y, 4n84, 4nb3, 4ngn, 4ngp, 4ngq, 4ngs, 4ngt, 4nku, 4nl1, 4nmo, 4nmp, 4nmq, 4nmr, 4nms, 4nmt, 4nmv, 4nrk, 4nrl, 4nrt, 4nuf, 4nw2, 4nxq, 4ny3, 4o0r, 4o36, 4o3t, 4o3u, 4o42, 4o45, 4o4y, 4o62, 4o6w, 4oak, 4odk, 4odl, 4odm, 4odn, 4odp, 4odq, 4oee, 4oef, 4oeg, 4oel, 4oem, 4ofl, 4onf, 4oru, 4orx, 4ory, 4ou3, 4ouj, 4ov5, 4oyk, 4oz1, 4p0a, 4p0b, 4p0n, 4p4s, 4pft, 4pfu, 4pgc, 4phv, 4pl6, 4pli, 4pn1, 4pnw, 4po7, 4pry, 4psx, 4ptc, 4pvo, 4pxf, 4pz5, 4pz8, 4q1e, 4q4s, 4q6f, 4qaa, 4qc1, 4qf7, 4qfl, 4qfn, 4qfo, 4qfp, 4qh7, 4qh8, 4qhp, 4ql1, 4qlk, 4qll, 4qme, 4qq4, 4qqi, 4qsk, 4qxt, 4qy8, 4r1e, 4r3s, 4r6t, 4ra1, 4ra5, 4rh5, 4rhu, 4ris, 4rme, 4rqi, 4rqz, 4rrv, 4rxh, 4rxz, 4tk1, 4tk2, 4tk3, 4tk4, 4tmp, 4tnw, 4tt2, 4tw8, 4twt, 4tzm, 4tzn, 4tzq, 4u0a, 4u0b, 4u0c, 4u0d, 4u2w, 4u68, 4u6x, 4u7t, 4u90, 4ua8, 4uac, 4ud7, 4ue1, 4um9, 4umn, 4utn, 4utr, 4utv, 4utx, 4uu5, 4uu7, 4uu8, 4uua, 4uub, 4uw1, 4ux9, 4uxj, 4v1f, 4v27, 4w4z, 4w50, 4w5a, 4w9f, 4w9n, 4wci, 4wey, 4wht, 4why, 4wj7, 4wko, 4wph, 4wq3, 4wrq, 4wv6, 4wy7, 4wym, 4x0z, 4x13, 4x14, 4x1n, 4x1p, 4x1q, 4x1r, 4x1s, 4x34, 4x3e, 4x3h, 4x3i, 4x3k, 4x3r, 4x3s, 4x6h, 4x6s, 4x8n, 4x8p, 4x9r, 4x9v, 4x9w, 4xc2, 4xek, 4xgz, 4xh2, 4xqu, 4xtp, 4xx9, 4xxh, 4xyn, 4y32, 4y3b, 4y5i, 4yb5, 4yc8, 4ydf, 4ydn, 4yee, 4yef, 4yhp, 4yhz, 4yje, 4yjl, 4yk0, 4ykj, 4ykk, 4ym2, 4ynl, 4yoz, 4ysi, 4yw2, 4yy6, 4yyi, 4yym, 4yyn, 4yyt, 4yz5, 4yzc, 4z0d, 4z0e, 4z0f, 4z0u, 4z1n, 4z2o, 4z2p, 4z68, 4z7i, 4z83, 4z88, 4z89, 4z8m, 4zdu, 4zeb, 4zhl, 4zhm, 4znx, 4zs9, 4zwy, 5a0e, 5a2i, 5a2j, 5a2k, 5a3h, 5a3o, 5ab0, 5ab1, 5ab9, 5abp, 5acw, 5acx, 5ajc, 5ajo, 5ajp, 5aom, 5apr, 5awt, 5awu, 5ayf, 5azg, 5b2d, 5b4w, 5b56, 5b6g, 5bjt, 5bmm, 5btr, 5btv, 5c0m, 5c11, 5c13, 5c1m, 5c6v, 5c7e, 5c7f, 5cbm, 5cfa, 5cil, 5cin, 5cqj, 5cqx, 5cr7, 5cs2, 5csz, 5cvd, 5cw8, 5cxi, 5d0j, 5d1u, 5d2a, 5d6y, 5d7e, 5dah, 5dif, 5dms, 5dtj, 5duw, 5dxb, 5dxe, 5dxg, 5e0l, 5e0m, 5e1b, 5e1d, 5e1o, 5e2v, 5e2w, 5e4w, 5e8f, 5eay, 5eel, 5eeq, 5eie, 5ekg, 5elf, 5elq, 5em9, 5ema, 5emb, 5eoc, 5eok, 5epp, 5esq, 5eta, 5etf, 5etu, 5euk, 5ewz, 5ey8, 5ey9, 5eyz, 5ez0, 5f08, 5f2u, 5f3c, 5f3e, 5f3g, 5f3i, 5f4n, 5f67, 5f88, 5fb0, 5fb1, 5ff6, 5fh6, 5fiv, 5fjx, 5fkj, 5fos, 5fpi, 5fpp, 5fyq, 5g5z, 5g60, 5g61, 5g6u, 5gg4, 5ggo, 5ggp, 5ghv, 5glu, 5gmi, 5gmj, 5gmv, 5gp7, 5gs4, 5gtr, 5gu4, 5gwy, 5gx6, 5gx7, 5h1e, 5h5q, 5h5r, 5h5s, 5hct, 5hda, 5heb, 5hed, 5hes, 5hex, 5hey, 5hf1, 5hfb, 5hfc, 5hff, 5hhx, 5hjb, 5hjc, 5hjd, 5hkh, 5hlp, 5hog, 5hpm, 5htc, 5huw, 5huy, 5hyq, 5hyr, 5i25, 5i2f, 5i2i, 5i8c, 5iaw, 5ick, 5icv, 5icx, 5icy, 5icz, 5id0, 5id1, 5ifu, 5igm, 5igq, 5ijj, 5ijp, 5iok, 5iop, 5ir1, 5itf, 5iv2, 5ivn, 5ivz, 5ix1, 5ixt, 5iy4, 5iyv, 5iz6, 5izf, 5izj, 5j19, 5j31, 5j3v, 5j41, 5j5x, 5j7j, 5j8u, 5j9k, 5jek, 5jeo, 5jf2, 5jf3, 5jf4, 5jf5, 5jf7, 5jf8, 5jin, 5jiy, 5jjm, 5jlz, 5jm4, 5jop, 5jq7, 5jqb, 5jr2, 5jvi, 5jy0, 5k5c, 5k6s, 5kez, 5kgn, 5klr, 5klt, 5knj, 5kqd, 5ksu, 5ksv, 5kzp, 5l0c, 5l0h, 5l3f, 5l3g, 5l7f, 5l7k, 5lax, 5lb7, 5lbq, 5lgp, 5lgq, 5lgr, 5lgs, 5lrk, 5lsh, 5lso, 5lu2, 5lub, 5lvx, 5ly1, 5ly2, 5ly3, 5lyr, 5lzh, 5m17, 5m1z, 5m28, 5m5d, 5m63, 5m77, 5mav, 5may, 5mb1, 5mby, 5mgx, 5mk1, 5mk3, 5mk9, 5mka, 5mks, 5mlo, 5mlw, 5mm9, 5mng, 5mnh, 5mo0, 5moq, 5mrd, 5mtw, 5mwj, 5mxo, 5mxr, 5myk, 5myo, 5myx, 5n16, 5n31, 5n7b, 5n7g, 5n7x, 5n8e, 5n8j, 5n8t, 5n8w, 5n99, 5n9n, 5nfa, 5nin, 5njx, 5nne, 5npr, 5nps, 5nw8, 5nwk, 5nx2, 5nxq, 5o22, 5o45, 5o4y, 5o4z, 5o58, 5o5m, 5ocj, 5ods, 5ofx, 5ogl, 5ok6, 5osy, 5ot3, 5oua, 5ous, 5oxk, 5oxl, 5oxm, 5oxn, 5oy3, 5oyd, 5q0l, 5sve, 5svi, 5svx, 5svy, 5svz, 5swf, 5sz2, 5szb, 5szc, 5t1i, 5t1k, 5t1l, 5t1m, 5t31, 5t52, 5t54, 5t6j, 5t78, 5t7s, 5t8r, 5t90, 5tdb, 5tdr, 5tdw, 5tef, 5teg, 5th2, 5th7, 5tha, 5tkj, 5tkk, 5tln, 5tp0, 5tpb, 5tpc, 5tq1, 5tqs, 5ttf, 5ttg, 5ttw, 5twg, 5twh, 5tyi, 5tzo, 5u06, 5u0f, 5u1q, 5u2j, 5u66, 5u6k, 5ufc, 5uff, 5umz, 5un1, 5unj, 5ur1, 5uw5, 5uwi, 5uwj, 5uwp, 5v1d, 5v1y, 5v2p, 5v2q, 5v3r, 5v4b, 5v6y, 5va9, 5vb9, 5vdk, 5vk0, 5vkm, 5vlh, 5vlk, 5vll, 5vlp, 5vnb, 5vqi, 5vtb, 5vzu, 5vzy, 5w0l, 5w0q, 5w38, 5w4e, 5w5s, 5w5u, 5w6i, 5w6r, 5w6t, 5w6u, 5w7i, 5w7j, 5w7x, 5w94, 5wa1, 5wa4, 5wbk, 5wbl, 5wei, 5wg8, 5wgd, 5wgq, 5wir, 5wkl, 5wkm, 5wle, 5wqd, 5wtt, 5wxf, 5wxg, 5wxh, 5wxo, 5wxp, 5wyr, 5x72, 5xgl, 5xhs, 5xhz, 5xo2, 5xof, 5xs8, 5xup, 5xvw, 5xwr, 5xxf, 5xxk, 5xyf, 5y1u, 5y20, 5y21, 5y53, 5y59, 5y5u, 5y5w, 5y6k, 5y7w, 5y97, 5yba, 5yc1, 5yc2, 5yc3, 5yc4, 5yco, 5ygd, 5ygf, 5yjy, 5ypo, 5ypp, 5ypw, 5yqw, 5yto, 5ytu, 5yv5, 5yvx, 5yy4, 5yy9, 5yyz, 5yzd, 5z89, 5z95, 5zbz, 5zia, 5zjy, 5zjz, 5zk5, 5zk7, 5zk9, 5zml, 5znp, 5znr, 5zoo, 5zop, 5zuj, 6a30, 6a5e, 6a6w, 6a80, 6a8g, 6a8n, 6a9c, 6a9o, 6abp, 6aox, 6apr, 6apu, 6ar2, 6asz, 6at0, 6au5, 6ax4, 6axj, 6axk, 6axp, 6ayh, 6ayn, 6azk, 6azl, 6b27, 6b2c, 6b5m, 6b5o, 6b5r, 6b5t, 6b67, 6bcr, 6bcy, 6bd1, 6bgg, 6bhd, 6bhe, 6bhh, 6bhi, 6bij, 6bil, 6bin, 6bir, 6biv, 6bix, 6biy, 6biz, 6bj2, 6bmi, 6bnt, 6buu, 6bvb, 6bvh, 6bw3, 6bw4, 6byk, 6c4u, 6c5h, 6c5j, 6c5k, 6c9n, 6c9p, 6c9r, 6cb5, 6cct, 6ccu, 6cd8, 6cdg, 6cdm, 6cdo, 6cdp, 6cer, 6cf6, 6cgt, 6cjv, 6co4, 6d07, 6d08, 6d1u, 6d3x, 6d3y, 6d3z, 6d40, 6d4o, 6d6t, 6df1, 6df2, 6do5, 6drt, 6dub, 6e49, 6e5x, 6e8k, 6e8m, 6ecz, 6eeh, 6egw, 6eiz, 6ek3, 6em6, 6em7, 6ema, 6eo0, 6epy, 6epz, 6eq1, 6eqv, 6eqw, 6eqx, 6er3, 6eru, 6esa, 6evp, 6eww, 6ex0, 6ezi, 6f08, 6f09, 6f55, 6f5m, 6f5u, 6f6d, 6f6i, 6f6n, 6f6s, 6f7t, 6f8g, 6fam, 6fau, 6fav, 6faw, 6fbw, 6fby, 6fc6, 6fel, 6fhu, 6fi4, 6fi5, 6fiv, 6fkp, 6fkq, 6fky, 6fkz, 6flg, 6fmn, 6fn9, 6fpu, 6fsd, 6fse, 6fu1, 6fvn, 6fx1, 6fzf, 6fzj, 6fzp, 6g0q, 6g15, 6g2n, 6g47, 6g6x, 6g84, 6g85, 6g86, 6g8i, 6g8j, 6g8k, 6g8l, 6g8p, 6g8q, 6g9b, 6g9i, 6gfx, 6ggb, 6gjj, 6gw1, 6gwe, 6gxe, 6gzl, 6h0b, 6h41, 6h4o, 6h4p, 6h4r, 6h4s, 6h4u, 6h4v, 6h4w, 6h4x, 6h4y, 6h50, 6h51, 6h52, 6h5w, 6h7b, 6h8c, 6h96, 6h9v, 6hck, 6hcu, 6hhp, 6hks, 6hlb, 6hld, 6hle, 6hm4, 6hmg, 6hmt, 6hoi, 6hol, 6hpg, 6hro, 6hs4, 6hv2, 6hy7, 6hza, 6hzb, 6hzc, 6hzd, 6hzx, 6i41, 6i4x, 6i5j, 6i5n, 6i5p, 6i68, 6i7a, 6iae, 6iam, 6idg, 6iiw, 6im4, 6inz, 6iqg, 6iso, 6j9w, 6j9y, 6jad, 6jag, 6jam, 6jan, 6jao, 6jap, 6jax, 6jb0, 6jb4, 6jbb, 6jjm, 6jjn, 6jjz, 6k2n, 6k5r, 6k5t, 6kdi, 6kmj, 6md6, 6me1, 6mil, 6mim, 6min, 6miq, 6mle, 6mlo, 6mm5, 6mnf, 6mqc, 6mqe, 6mqm, 6msy, 6mtv, 6mu3, 6mub, 6n19, 6n3e, 6n3f, 6n5x, 6n7q, 6n87, 6n93, 6nao, 6ncp, 6njz, 6nk0, 6nk1, 6nkp, 6nsx, 6nxz, 6ny0, 6o21, 6o3w, 6o3x, 6o3y, 6o7g, 6oie, 6om2, 6om4, 6oxl, 6p3w, 6p7p, 6p7q, 6pek, 6peu, 6phx, 6pi7, 6pit, 6prg, 6pxc, 6q38, 6q4q, 6q9t, 6q9w, 6qc0, 6qcg, 6qdx, 6qk8, 6qpl, 6qs1, 6qsz, 6qtm, 6qto, 6qtq, 6qtr, 6qts, 6qtw, 6qtx, 6qzr, 6r0x, 6r8i, 6rhe, 6rk4, 6rml, 6rr0, 6s07, 6sen, 6sq0, 6tyz, 6u5m, 6uyx, 6uyy, 6uyz, 6v1c, 7abp, 7kme, 8abp, 9abp, 9icd'"
      ]
     },
     "execution_count": 26,
     "metadata": {},
     "output_type": "execute_result"
    }
   ],
   "source": [
    "', '.join(ids)"
   ]
  },
  {
   "cell_type": "code",
   "execution_count": null,
   "metadata": {},
   "outputs": [],
   "source": [
    "\n",
    "\n",
    "|-- 1a69_FMB_A_240_ligand.pdb\n",
    "       |-- 1a69_FMB_A_240_protein.pdb\n",
    "       |-- 1a69_FMB_A_240_protein_hetatm.pdb\n",
    "       |-- 1a69_FMB_A_240_hetatm.pdb\n",
    "       |-- 1a69_FMB_A_240_ligand_refined.sdf\n",
    "       |-- 1a69_FMB_A_240_protein_refined.pdb"
   ]
  }
 ],
 "metadata": {
  "kernelspec": {
   "display_name": "Python 3",
   "language": "python",
   "name": "python3"
  },
  "language_info": {
   "codemirror_mode": {
    "name": "ipython",
    "version": 3
   },
   "file_extension": ".py",
   "mimetype": "text/x-python",
   "name": "python",
   "nbconvert_exporter": "python",
   "pygments_lexer": "ipython3",
   "version": "3.10.14"
  }
 },
 "nbformat": 4,
 "nbformat_minor": 2
}
